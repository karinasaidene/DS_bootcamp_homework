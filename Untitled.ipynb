{
 "cells": [
  {
   "cell_type": "code",
   "execution_count": 3,
   "id": "63b6bc42",
   "metadata": {},
   "outputs": [
    {
     "data": {
      "text/plain": [
       "array([[1, 4, 8],\n",
       "       [2, 8, 9],\n",
       "       [3, 2, 3]])"
      ]
     },
     "execution_count": 3,
     "metadata": {},
     "output_type": "execute_result"
    }
   ],
   "source": [
    "#transposition\n",
    "import numpy as np\n",
    "#  1 2 3\n",
    "#A= 4 8 2\n",
    "#  8 9 3\n",
    "A=np.array([[1,2,3],[4,8,2],[8,9,3]])\n",
    "A_transpos=A.T\n",
    "A_transpos"
   ]
  },
  {
   "cell_type": "code",
   "execution_count": 8,
   "id": "93b83410",
   "metadata": {},
   "outputs": [
    {
     "name": "stdout",
     "output_type": "stream",
     "text": [
      "A is diagonale False\n",
      "B is diagonale True\n"
     ]
    }
   ],
   "source": [
    "#diagnol\n",
    "#  4 0 0\n",
    "#B=0 5 0\n",
    "#  0 0 6\n",
    "B=np.array([[4,0,0],[0,5,0],[0,0,6]])\n",
    "def Isdiag(M):\n",
    "    return np.all(M==np.diag(np.diagonal(M)))\n",
    "\n",
    "print(\"A is diagonale\",Isdiag(A))\n",
    "print(\"B is diagonale\",Isdiag(B))"
   ]
  },
  {
   "cell_type": "code",
   "execution_count": 25,
   "id": "2eae58f1",
   "metadata": {},
   "outputs": [
    {
     "name": "stdout",
     "output_type": "stream",
     "text": [
      "True\n",
      "False\n"
     ]
    }
   ],
   "source": [
    "#identity matrix\n",
    "# n number of rows in the matrix\n",
    "def IsIdentity(M,n) :\n",
    "    I=np.eye(n)\n",
    "    return np.all(np.equal(M,I))\n",
    "\n",
    "#test\n",
    "D=np.array([[1,0,0],[0,1,0],[0,0,1]])\n",
    "F=np.array([[1,0,0],[1,0,0],[0,0,1]])\n",
    "print(IsIdentity(D,D.shape[0])) #A.shape[0] will return the number of rows in the matrix A\n",
    "print(IsIdentity(F,F.shape[0]))\n"
   ]
  },
  {
   "cell_type": "code",
   "execution_count": 26,
   "id": "8bc0f74c",
   "metadata": {},
   "outputs": [
    {
     "name": "stdout",
     "output_type": "stream",
     "text": [
      "[[-0.73913043  0.56521739 -0.08695652]\n",
      " [ 1.17391304 -0.95652174  0.60869565]\n",
      " [-0.56521739  0.60869565 -0.47826087]]\n"
     ]
    }
   ],
   "source": [
    "#inverse of a matrix\n",
    "C=np.array([[2,5,6],[5,7,8],[4,3,1]])\n",
    "print(np.linalg.inv(C))\n"
   ]
  },
  {
   "cell_type": "code",
   "execution_count": 28,
   "id": "e50eda38",
   "metadata": {},
   "outputs": [
    {
     "data": {
      "text/plain": [
       "array([[2],\n",
       "       [5],\n",
       "       [4]])"
      ]
     },
     "execution_count": 28,
     "metadata": {},
     "output_type": "execute_result"
    }
   ],
   "source": [
    "#extract a vector column\n",
    "V=c[:,[0]]\n",
    "V"
   ]
  },
  {
   "cell_type": "code",
   "execution_count": 29,
   "id": "3a8b24e5",
   "metadata": {},
   "outputs": [
    {
     "name": "stdout",
     "output_type": "stream",
     "text": [
      "norm L1: 11.0\n",
      "norm L2: 6.708203932499369\n"
     ]
    }
   ],
   "source": [
    "#L1 notm\n",
    "from numpy.linalg import norm\n",
    "L1=norm(V,1)\n",
    "L2=norm (V)\n",
    "print(\"norm L1:\",L1)\n",
    "print(\"norm L2:\",L2)"
   ]
  },
  {
   "cell_type": "code",
   "execution_count": null,
   "id": "27a80ad1",
   "metadata": {},
   "outputs": [],
   "source": []
  }
 ],
 "metadata": {
  "kernelspec": {
   "display_name": "Python 3",
   "language": "python",
   "name": "python3"
  },
  "language_info": {
   "codemirror_mode": {
    "name": "ipython",
    "version": 3
   },
   "file_extension": ".py",
   "mimetype": "text/x-python",
   "name": "python",
   "nbconvert_exporter": "python",
   "pygments_lexer": "ipython3",
   "version": "3.9.4"
  }
 },
 "nbformat": 4,
 "nbformat_minor": 5
}
