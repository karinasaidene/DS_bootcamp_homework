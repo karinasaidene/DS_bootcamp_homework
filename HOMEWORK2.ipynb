{
  "nbformat": 4,
  "nbformat_minor": 0,
  "metadata": {
    "colab": {
      "name": "HOMEWORK2.ipynb",
      "provenance": [],
      "collapsed_sections": [],
      "authorship_tag": "ABX9TyNdFHEYBQR/Udctm5TPHJq+",
      "include_colab_link": true
    },
    "kernelspec": {
      "name": "python3",
      "display_name": "Python 3"
    },
    "language_info": {
      "name": "python"
    }
  },
  "cells": [
    {
      "cell_type": "markdown",
      "metadata": {
        "id": "view-in-github",
        "colab_type": "text"
      },
      "source": [
        "<a href=\"https://colab.research.google.com/github/karinasaidene/DS_bootcamp_homework/blob/main/HOMEWORK2.ipynb\" target=\"_parent\"><img src=\"https://colab.research.google.com/assets/colab-badge.svg\" alt=\"Open In Colab\"/></a>"
      ]
    },
    {
      "cell_type": "code",
      "execution_count": 15,
      "metadata": {
        "id": "9ESEVEsYIZ92"
      },
      "outputs": [],
      "source": [
        "import tensorflow as tf\n",
        "import matplotlib.pyplot as plt"
      ]
    },
    {
      "cell_type": "markdown",
      "source": [
        ""
      ],
      "metadata": {
        "id": "AXeh9R6QI13a"
      }
    },
    {
      "cell_type": "code",
      "source": [
        "mnist = tf.keras.datasets.mnist\n",
        "\n",
        "class_names=['0','1','2','3','4','5','6','7','8','9']\n",
        "\n",
        "(x_train , y_train), (x_test, y_test) = mnist.load_data()\n"
      ],
      "metadata": {
        "id": "mSabFuoeIxDZ"
      },
      "execution_count": 63,
      "outputs": []
    },
    {
      "cell_type": "code",
      "source": [
        "#visualisation\n",
        "plt.imshow(x_train[0], cmap=plt.cm.binary)\n",
        "plt.show()"
      ],
      "metadata": {
        "colab": {
          "base_uri": "https://localhost:8080/",
          "height": 265
        },
        "id": "3jUfkes5JTo-",
        "outputId": "efe69c7a-e819-4192-c480-cd7b3b782d22"
      },
      "execution_count": 17,
      "outputs": [
        {
          "output_type": "display_data",
          "data": {
            "image/png": "[encoded data removed]",
            "text/plain": [
              "<Figure size 432x288 with 1 Axes>"
            ]
          },
          "metadata": {
            "needs_background": "light"
          }
        }
      ]
    },
    {
      "cell_type": "code",
      "source": [
        "#create a model \n",
        "\n",
        "\n",
        "\n",
        "model = tf.keras.models.Sequential()\n",
        "model.add( tf.keras.layers.Flatten())\n",
        "model.add( tf.keras.layers.Dense(128,kernel_initializer='he_normal', activation = tf.nn.sigmoid))\n",
        "model.add( tf.keras.layers.Dense(128,kernel_initializer='he_normal', activation = tf.nn.sigmoid))\n",
        "model.add( tf.keras.layers.Dense(128, kernel_initializer='he_normal',activation = tf.nn.sigmoid))\n",
        "model.add( tf.keras.layers.Dense(128,kernel_initializer='he_normal', activation = tf.nn.sigmoid))\n",
        "model.add( tf.keras.layers.Dense(128, kernel_initializer='he_normal',activation = tf.nn.sigmoid))\n",
        "model.add( tf.keras.layers.Dense(128,kernel_initializer='he_normal', activation = tf.nn.sigmoid))\n",
        "\n",
        "#optimizer = tf.keras.optimizers.SGD()\n",
        "model.compile(optimizer='Adam', loss='SparseCategoricalCrossentropy', metrics = ['accuracy'])\n"
      ],
      "metadata": {
        "id": "5p4glYYaJ9Ek"
      },
      "execution_count": 34,
      "outputs": []
    },
    {
      "cell_type": "code",
      "source": [
        "history =  model.fit(x_train, y_train)"
      ],
      "metadata": {
        "id": "VtG5mkLRJ9Ix",
        "colab": {
          "base_uri": "https://localhost:8080/"
        },
        "outputId": "926010d5-8668-4fa5-9291-88ad316c1999"
      },
      "execution_count": 35,
      "outputs": [
        {
          "output_type": "stream",
          "name": "stdout",
          "text": [
            "1875/1875 [==============================] - 8s 4ms/step - loss: 1.9380 - accuracy: 0.2620\n"
          ]
        }
      ]
    },
    {
      "cell_type": "code",
      "source": [
        "#check the performance\n",
        "\n",
        "print(model.summary())\n",
        "\n",
        "score = model.evaluate(x_test, y_test, verbose =0)\n",
        "print('test loss', score[0])\n",
        "print('test top 1 accuracy', score[1])"
      ],
      "metadata": {
        "colab": {
          "base_uri": "https://localhost:8080/"
        },
        "id": "gdlqPpYIIVnr",
        "outputId": "d988ffbd-76ed-46d4-dd58-e3a925ee8fdb"
      },
      "execution_count": 36,
      "outputs": [
        {
          "output_type": "stream",
          "name": "stdout",
          "text": [
            "Model: \"sequential_19\"\n",
            "_________________________________________________________________\n",
            " Layer (type)                Output Shape              Param #   \n",
            "=================================================================\n",
            " flatten_19 (Flatten)        (32, 784)                 0         \n",
            "                                                                 \n",
            " dense_114 (Dense)           (32, 128)                 100480    \n",
            "                                                                 \n",
            " dense_115 (Dense)           (32, 128)                 16512     \n",
            "                                                                 \n",
            " dense_116 (Dense)           (32, 128)                 16512     \n",
            "                                                                 \n",
            " dense_117 (Dense)           (32, 128)                 16512     \n",
            "                                                                 \n",
            " dense_118 (Dense)           (32, 128)                 16512     \n",
            "                                                                 \n",
            " dense_119 (Dense)           (32, 128)                 16512     \n",
            "                                                                 \n",
            "=================================================================\n",
            "Total params: 183,040\n",
            "Trainable params: 183,040\n",
            "Non-trainable params: 0\n",
            "_________________________________________________________________\n",
            "None\n",
            "test loss 0.921902060508728\n",
            "test top 1 accuracy 0.7001000046730042\n"
          ]
        }
      ]
    },
    {
      "cell_type": "code",
      "source": [
        "#tensorboard\n",
        "logs_dir = './tesnorflow_homework2_logs'\n",
        "\n",
        "#define a call back method\n",
        "from keras.callbacks import TensorBoard\n",
        "callbacks = [TensorBoard(log_dir= logs_dir,\n",
        "                         histogram_freq =1,\n",
        "                         write_graph =True,\n",
        "                         write_images = True,\n",
        "                         update_freq = 'epoch',\n",
        "                         profile_batch =2,\n",
        "                         embeddings_freq =1 )]"
      ],
      "metadata": {
        "id": "oDmpqVkjKp39"
      },
      "execution_count": 89,
      "outputs": []
    },
    {
      "cell_type": "code",
      "source": [
        "import numpy as np\n",
        "import pandas as pd\n",
        "import datetime\n",
        "import io\n",
        "import seaborn as sns\n",
        "file_writer = tf.summary.create_file_writer(logs_dir+'/cm'+datetime.datetime.now().strftime(\"%Y%m%d-%H%M%S\"))\n",
        "\n",
        "def log_confusion_matrix( epoch , logs) :\n",
        "  #use the model to predict the values from the validation dataset\n",
        "  test_pred =model(x_test)\n",
        "  test_pred = tf.math.argmax(test_pred , axis =1)\n",
        "  con_mat = tf.math.confusion_matrix(labels =y_test, predictions =test_pred).numpy()\n",
        "  con_mat_norm = np.around(con_mat.astype('float')/con_mat.sum(axis=1)[: , np.newaxis], decimals=2)\n",
        "\n",
        "  con_mat_df =pd.DataFrame (con_mat_norm, index =class_names , columns = class_names)\n",
        "  figure = plt.figure(figsize=(8,8))\n",
        "  sns.heatmap(con_mat_df, annot=True, cmap = plt.cm.Blues)\n",
        "  plt.tight_layout()\n",
        "  plt.ylabel('true label')\n",
        "  plt.xlabel( 'predicted label')\n",
        "\n",
        "  buf = io.BytesIO()\n",
        "  plt.savefig(buf , format='png')\n",
        "\n",
        "  plt.close(figure)\n",
        "  buf.seek(0)\n",
        "  image = tf.image.decode_png( buf.getvalue(),channels =4)\n",
        "  image = tf.expand_dims(image , 0)\n",
        "\n",
        "  #log the confusion matrix as an image summary\n",
        "  with file_writer.as_default() :\n",
        "    tf.summary.image(\"ConfusionMatrix\", image , step=epoch)\n",
        "\n",
        "TensorBoard_callback = tf.keras.callbacks.TensorBoard(log_dir =logs_dir)\n",
        "cm_callback = tf.keras.callbacks.LambdaCallback(on_epoch_end = log_confusion_matrix)"
      ],
      "metadata": {
        "id": "3c7DXvOCPYNx"
      },
      "execution_count": 90,
      "outputs": []
    },
    {
      "cell_type": "code",
      "source": [
        "#fit the model again using callback \n",
        "history =  model.fit(x_train , y_train , epochs =50, callbacks= [callbacks, cm_callback])"
      ],
      "metadata": {
        "colab": {
          "base_uri": "https://localhost:8080/"
        },
        "id": "bpNOnAaOUhLs",
        "outputId": "e8b965be-f516-496c-8dfd-462271c5dc79"
      },
      "execution_count": 93,
      "outputs": [
        {
          "output_type": "stream",
          "name": "stdout",
          "text": [
            "Epoch 1/50\n",
            "1875/1875 [==============================] - 10s 5ms/step - loss: 0.0379 - accuracy: 0.9880\n",
            "Epoch 2/50\n",
            "1875/1875 [==============================] - 10s 5ms/step - loss: 0.0382 - accuracy: 0.9872\n",
            "Epoch 3/50\n",
            "1875/1875 [==============================] - 9s 5ms/step - loss: 0.0388 - accuracy: 0.9869\n",
            "Epoch 4/50\n",
            "1875/1875 [==============================] - 9s 5ms/step - loss: 0.0397 - accuracy: 0.9870\n",
            "Epoch 5/50\n",
            "1875/1875 [==============================] - 9s 5ms/step - loss: 0.0360 - accuracy: 0.9874\n",
            "Epoch 6/50\n",
            "1875/1875 [==============================] - 8s 4ms/step - loss: 0.0372 - accuracy: 0.9871\n",
            "Epoch 7/50\n",
            "1875/1875 [==============================] - 9s 5ms/step - loss: 0.0368 - accuracy: 0.9876\n",
            "Epoch 8/50\n",
            "1875/1875 [==============================] - 9s 5ms/step - loss: 0.0335 - accuracy: 0.9886\n",
            "Epoch 9/50\n",
            "1875/1875 [==============================] - 9s 5ms/step - loss: 0.0381 - accuracy: 0.9877\n",
            "Epoch 10/50\n",
            "1875/1875 [==============================] - 9s 5ms/step - loss: 0.0379 - accuracy: 0.9880\n",
            "Epoch 11/50\n",
            "1875/1875 [==============================] - 8s 4ms/step - loss: 0.0419 - accuracy: 0.9862\n",
            "Epoch 12/50\n",
            "1875/1875 [==============================] - 9s 5ms/step - loss: 0.0373 - accuracy: 0.9876\n",
            "Epoch 13/50\n",
            "1875/1875 [==============================] - 9s 5ms/step - loss: 0.0357 - accuracy: 0.9882\n",
            "Epoch 14/50\n",
            "1875/1875 [==============================] - 9s 5ms/step - loss: 0.0324 - accuracy: 0.9889\n",
            "Epoch 15/50\n",
            "1875/1875 [==============================] - 9s 5ms/step - loss: 0.0339 - accuracy: 0.9888\n",
            "Epoch 16/50\n",
            "1875/1875 [==============================] - 9s 5ms/step - loss: 0.0314 - accuracy: 0.9893\n",
            "Epoch 17/50\n",
            "1875/1875 [==============================] - 9s 5ms/step - loss: 0.0324 - accuracy: 0.9894\n",
            "Epoch 18/50\n",
            "1875/1875 [==============================] - 9s 5ms/step - loss: 0.0345 - accuracy: 0.9883\n",
            "Epoch 19/50\n",
            "1875/1875 [==============================] - 9s 5ms/step - loss: 0.0316 - accuracy: 0.9893\n",
            "Epoch 20/50\n",
            "1875/1875 [==============================] - 9s 5ms/step - loss: 0.0349 - accuracy: 0.9883\n",
            "Epoch 21/50\n",
            "1875/1875 [==============================] - 9s 5ms/step - loss: 0.0383 - accuracy: 0.9871\n",
            "Epoch 22/50\n",
            "1875/1875 [==============================] - 9s 5ms/step - loss: 0.0354 - accuracy: 0.9886\n",
            "Epoch 23/50\n",
            "1875/1875 [==============================] - 9s 5ms/step - loss: 0.0342 - accuracy: 0.9880\n",
            "Epoch 24/50\n",
            "1875/1875 [==============================] - 9s 5ms/step - loss: 0.0339 - accuracy: 0.9884\n",
            "Epoch 25/50\n",
            "1875/1875 [==============================] - 9s 5ms/step - loss: 0.0329 - accuracy: 0.9886\n",
            "Epoch 26/50\n",
            "1875/1875 [==============================] - 9s 5ms/step - loss: 0.0343 - accuracy: 0.9886\n",
            "Epoch 27/50\n",
            "1875/1875 [==============================] - 9s 5ms/step - loss: 0.0367 - accuracy: 0.9875\n",
            "Epoch 28/50\n",
            "1875/1875 [==============================] - 9s 5ms/step - loss: 0.0357 - accuracy: 0.9884\n",
            "Epoch 29/50\n",
            "1875/1875 [==============================] - 9s 5ms/step - loss: 0.0408 - accuracy: 0.9868\n",
            "Epoch 30/50\n",
            "1875/1875 [==============================] - 9s 5ms/step - loss: 0.0426 - accuracy: 0.9857\n",
            "Epoch 31/50\n",
            "1875/1875 [==============================] - 8s 5ms/step - loss: 0.0425 - accuracy: 0.9857\n",
            "Epoch 32/50\n",
            "1875/1875 [==============================] - 9s 5ms/step - loss: 0.0402 - accuracy: 0.9862\n",
            "Epoch 33/50\n",
            "1875/1875 [==============================] - 9s 5ms/step - loss: 0.0367 - accuracy: 0.9875\n",
            "Epoch 34/50\n",
            "1875/1875 [==============================] - 9s 5ms/step - loss: 0.0361 - accuracy: 0.9877\n",
            "Epoch 35/50\n",
            "1875/1875 [==============================] - 9s 5ms/step - loss: 0.0384 - accuracy: 0.9871\n",
            "Epoch 36/50\n",
            "1875/1875 [==============================] - 9s 5ms/step - loss: 0.0390 - accuracy: 0.9872\n",
            "Epoch 37/50\n",
            "1875/1875 [==============================] - 9s 5ms/step - loss: 0.0398 - accuracy: 0.9863\n",
            "Epoch 38/50\n",
            "1875/1875 [==============================] - 9s 5ms/step - loss: 0.0360 - accuracy: 0.9872\n",
            "Epoch 39/50\n",
            "1875/1875 [==============================] - 9s 5ms/step - loss: 0.0345 - accuracy: 0.9881\n",
            "Epoch 40/50\n",
            "1875/1875 [==============================] - 9s 5ms/step - loss: 0.0371 - accuracy: 0.9870\n",
            "Epoch 41/50\n",
            "1875/1875 [==============================] - 12s 6ms/step - loss: 0.0357 - accuracy: 0.9879\n",
            "Epoch 42/50\n",
            "1875/1875 [==============================] - 9s 5ms/step - loss: 0.0391 - accuracy: 0.9870\n",
            "Epoch 43/50\n",
            "1875/1875 [==============================] - 9s 5ms/step - loss: 0.0362 - accuracy: 0.9878\n",
            "Epoch 44/50\n",
            "1875/1875 [==============================] - 9s 5ms/step - loss: 0.0338 - accuracy: 0.9888\n",
            "Epoch 45/50\n",
            "1875/1875 [==============================] - 9s 5ms/step - loss: 0.0319 - accuracy: 0.9892\n",
            "Epoch 46/50\n",
            "1875/1875 [==============================] - 9s 5ms/step - loss: 0.0387 - accuracy: 0.9871\n",
            "Epoch 47/50\n",
            "1875/1875 [==============================] - 9s 5ms/step - loss: 0.0390 - accuracy: 0.9870\n",
            "Epoch 48/50\n",
            "1875/1875 [==============================] - 9s 5ms/step - loss: 0.0400 - accuracy: 0.9869\n",
            "Epoch 49/50\n",
            "1875/1875 [==============================] - 9s 5ms/step - loss: 0.0360 - accuracy: 0.9879\n",
            "Epoch 50/50\n",
            "1875/1875 [==============================] - 9s 5ms/step - loss: 0.0370 - accuracy: 0.9881\n"
          ]
        }
      ]
    },
    {
      "cell_type": "code",
      "source": [
        "#add Tensorboard extension\n",
        "%load_ext tensorboard"
      ],
      "metadata": {
        "colab": {
          "base_uri": "https://localhost:8080/"
        },
        "id": "gfMqP3wpU_oZ",
        "outputId": "f51f3c9c-af04-42fd-c127-948eef29af01"
      },
      "execution_count": 94,
      "outputs": [
        {
          "output_type": "stream",
          "name": "stdout",
          "text": [
            "The tensorboard extension is already loaded. To reload it, use:\n",
            "  %reload_ext tensorboard\n"
          ]
        }
      ]
    },
    {
      "cell_type": "code",
      "source": [
        "!tensorboard --logdir ./tensorflow_homework2_logs --host localhost\n"
      ],
      "metadata": {
        "colab": {
          "base_uri": "https://localhost:8080/"
        },
        "id": "4IXiEqe8V1oC",
        "outputId": "9a1ce310-2c10-48d3-91ce-995ee83f3099"
      },
      "execution_count": 95,
      "outputs": [
        {
          "output_type": "stream",
          "name": "stdout",
          "text": [
            "2022-03-05 11:00:28.198409: E tensorflow/stream_executor/cuda/cuda_driver.cc:271] failed call to cuInit: CUDA_ERROR_NO_DEVICE: no CUDA-capable device is detected\n",
            "\n",
            "NOTE: Using experimental fast data loading logic. To disable, pass\n",
            "    \"--load_fast=false\" and report issues on GitHub. More details:\n",
            "    https://github.com/tensorflow/tensorboard/issues/4784\n",
            "\n",
            "TensorBoard 2.8.0 at http://localhost:6006/ (Press CTRL+C to quit)\n",
            "^C\n"
          ]
        }
      ]
    },
    {
      "cell_type": "markdown",
      "source": [
        "# Nouvelle section"
      ],
      "metadata": {
        "id": "XZx8aJ8CqOwS"
      }
    },
    {
      "cell_type": "code",
      "source": [
        "check_point= './tensorflow_homework2.cpkt'\n",
        "model.save_weights (check_point)"
      ],
      "metadata": {
        "id": "MRpOb5WwIyY0"
      },
      "execution_count": 97,
      "outputs": []
    }
  ]
}