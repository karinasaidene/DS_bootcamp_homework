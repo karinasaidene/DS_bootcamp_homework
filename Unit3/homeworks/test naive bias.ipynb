{
 "cells": [
  {
   "cell_type": "code",
   "execution_count": 2,
   "id": "ddfd89bd",
   "metadata": {},
   "outputs": [],
   "source": [
    "from sklearn.datasets import load_iris\n",
    "from sklearn.model_selection import train_test_split\n"
   ]
  },
  {
   "cell_type": "code",
   "execution_count": 3,
   "id": "e8cb9d5b",
   "metadata": {},
   "outputs": [],
   "source": [
    "X=load_iris().data\n",
    "y=load_iris().target"
   ]
  },
  {
   "cell_type": "code",
   "execution_count": 5,
   "id": "ea919197",
   "metadata": {},
   "outputs": [
    {
     "name": "stdout",
     "output_type": "stream",
     "text": [
      "(120, 4) (30, 4) (120,) (30,)\n"
     ]
    }
   ],
   "source": [
    "x_train, x_test, y_train , y_test = train_test_split(X,y,test_size=0.2,random_state=0)\n",
    "print(x_train.shape,\n",
    "      x_test.shape,\n",
    "      y_train.shape ,\n",
    "      y_test.shape)"
   ]
  },
  {
   "cell_type": "code",
   "execution_count": 6,
   "id": "ef113783",
   "metadata": {},
   "outputs": [],
   "source": [
    "#importing Gaussian naive Bayes then creating Caussian naive Classifier\n",
    "from sklearn.naive_bayes import GaussianNB\n",
    "gnb = GaussianNB()\n",
    "#training and testing the model\n",
    "y_predict =  gnb.fit(x_train,y_train). predict(x_test)"
   ]
  },
  {
   "cell_type": "code",
   "execution_count": 12,
   "id": "631e9b34",
   "metadata": {},
   "outputs": [
    {
     "name": "stdout",
     "output_type": "stream",
     "text": [
      "the number of misslabled points out of a total 30 points : 1\n"
     ]
    }
   ],
   "source": [
    "#printing how many labels were missclassified\n",
    "print(\"the number of misslabled points out of a total %d points : %d\"%(x_test.shape[0],(y_test !=y_predict).sum()))"
   ]
  },
  {
   "cell_type": "code",
   "execution_count": null,
   "id": "31ec93ec",
   "metadata": {},
   "outputs": [],
   "source": []
  }
 ],
 "metadata": {
  "kernelspec": {
   "display_name": "Python 3",
   "language": "python",
   "name": "python3"
  },
  "language_info": {
   "codemirror_mode": {
    "name": "ipython",
    "version": 3
   },
   "file_extension": ".py",
   "mimetype": "text/x-python",
   "name": "python",
   "nbconvert_exporter": "python",
   "pygments_lexer": "ipython3",
   "version": "3.8.8"
  }
 },
 "nbformat": 4,
 "nbformat_minor": 5
}
