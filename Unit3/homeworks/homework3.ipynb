{
 "cells": [
  {
   "cell_type": "code",
   "execution_count": 22,
   "id": "0a33620a",
   "metadata": {},
   "outputs": [],
   "source": [
    "from sklearn.datasets import load_breast_cancer\n",
    "from sklearn.model_selection import train_test_split\n",
    "from sklearn import svm\n",
    "from sklearn import metrics\n",
    "from sklearn import tree\n",
    "from matplotlib import pyplot as plt\n",
    "from sklearn.ensemble import RandomForestClassifier\n",
    "from matplotlib import pyplot as plt"
   ]
  },
  {
   "cell_type": "markdown",
   "id": "70b19931",
   "metadata": {},
   "source": [
    "use test naive bayes\n"
   ]
  },
  {
   "cell_type": "code",
   "execution_count": 23,
   "id": "6369848c",
   "metadata": {},
   "outputs": [
    {
     "name": "stdout",
     "output_type": "stream",
     "text": [
      "(398, 30) (171, 30) (398,) (171,)\n"
     ]
    }
   ],
   "source": [
    "X, y =load_breast_cancer(return_X_y=True)\n",
    "x_train, x_test, y_train , y_test = train_test_split(X,y,test_size=0.3,random_state=0)\n",
    "print(x_train.shape,\n",
    "      x_test.shape,\n",
    "      y_train.shape ,\n",
    "      y_test.shape)"
   ]
  },
  {
   "cell_type": "code",
   "execution_count": 24,
   "id": "8d546691",
   "metadata": {},
   "outputs": [],
   "source": [
    "#importing Gaussian naive Bayes then creating Caussian naive Classifier\n",
    "from sklearn.naive_bayes import GaussianNB\n",
    "gnb = GaussianNB()\n",
    "#training and testing the model\n",
    "y_predict =  gnb.fit(x_train,y_train). predict(x_test)"
   ]
  },
  {
   "cell_type": "code",
   "execution_count": 25,
   "id": "69fcd8e6",
   "metadata": {},
   "outputs": [
    {
     "name": "stdout",
     "output_type": "stream",
     "text": [
      "the number of misslabled points out of a total 171 points : 13\n"
     ]
    }
   ],
   "source": [
    "#printing how many labels were missclassified\n",
    "print(\"the number of misslabled points out of a total %d points : %d\"%(x_test.shape[0],(y_test !=y_predict).sum()))"
   ]
  },
  {
   "cell_type": "code",
   "execution_count": 26,
   "id": "6a9ed823",
   "metadata": {},
   "outputs": [
    {
     "name": "stdout",
     "output_type": "stream",
     "text": [
      "0.07602339181286555\n"
     ]
    }
   ],
   "source": [
    "err=1.0-metrics.accuracy_score(y_test,gnb.predict(x_test))\n",
    "print(err)"
   ]
  },
  {
   "cell_type": "markdown",
   "id": "be823b3d",
   "metadata": {},
   "source": [
    "Use SVM"
   ]
  },
  {
   "cell_type": "code",
   "execution_count": 27,
   "id": "62eb1e40",
   "metadata": {},
   "outputs": [
    {
     "data": {
      "text/plain": [
       "SVC(gamma='auto')"
      ]
     },
     "execution_count": 27,
     "metadata": {},
     "output_type": "execute_result"
    }
   ],
   "source": [
    "clf = svm.SVC(gamma='auto')\n",
    "clf.fit(x_train,y_train)"
   ]
  },
  {
   "cell_type": "code",
   "execution_count": 28,
   "id": "b26afeb8",
   "metadata": {},
   "outputs": [
    {
     "data": {
      "text/plain": [
       "array([1, 1, 1, 1, 1, 1, 1, 1, 1, 1, 1, 1, 1, 1, 1, 1, 1, 1, 1, 1, 1, 1,\n",
       "       1, 1, 1, 1, 1, 1, 1, 1, 1, 1, 1, 1, 1, 1, 1, 1, 1, 1, 1, 1, 1, 1,\n",
       "       1, 1, 1, 1, 1, 1, 1, 1, 1, 1, 1, 1, 1, 1, 1, 1, 1, 1, 1, 1, 1, 1,\n",
       "       1, 1, 1, 1, 1, 1, 1, 1, 1, 1, 1, 1, 1, 1, 1, 1, 1, 1, 1, 1, 1, 1,\n",
       "       1, 1, 1, 1, 1, 1, 1, 1, 1, 1, 1, 1, 1, 1, 1, 1, 1, 1, 1, 1, 1, 1,\n",
       "       1, 1, 1, 1, 1, 1, 1, 1, 1, 1, 1, 1, 1, 1, 1, 1, 1, 1, 1, 1, 1, 1,\n",
       "       1, 1, 1, 1, 1, 1, 1, 1, 1, 1, 1, 1, 1, 1, 1, 1, 1, 1, 1, 1, 1, 1,\n",
       "       1, 1, 1, 1, 1, 1, 1, 1, 1, 1, 1, 1, 1, 1, 1, 1, 1])"
      ]
     },
     "execution_count": 28,
     "metadata": {},
     "output_type": "execute_result"
    }
   ],
   "source": [
    "clf.predict(x_test)"
   ]
  },
  {
   "cell_type": "code",
   "execution_count": 29,
   "id": "21982a00",
   "metadata": {},
   "outputs": [
    {
     "name": "stdout",
     "output_type": "stream",
     "text": [
      "0.368421052631579\n"
     ]
    }
   ],
   "source": [
    "err=1.0-metrics.accuracy_score(y_test,clf.predict(x_test))\n",
    "print(err)"
   ]
  },
  {
   "cell_type": "code",
   "execution_count": 30,
   "id": "d1c62af5",
   "metadata": {},
   "outputs": [
    {
     "data": {
      "text/plain": [
       "63.00000000000001"
      ]
     },
     "execution_count": 30,
     "metadata": {},
     "output_type": "execute_result"
    }
   ],
   "source": [
    "err*x_test.shape[0]"
   ]
  },
  {
   "cell_type": "code",
   "execution_count": 31,
   "id": "a120ff19",
   "metadata": {},
   "outputs": [
    {
     "name": "stdout",
     "output_type": "stream",
     "text": [
      "the number of misslabled points out of a total 171 points : 13\n"
     ]
    }
   ],
   "source": [
    "#printing how many labels were missclassified\n",
    "print(\"the number of misslabled points out of a total %d points : %d\"%(x_test.shape[0],(y_test !=y_predict).sum()))"
   ]
  },
  {
   "cell_type": "markdown",
   "id": "3cf6197d",
   "metadata": {},
   "source": [
    "Use decision Tree"
   ]
  },
  {
   "cell_type": "code",
   "execution_count": 32,
   "id": "687d05cf",
   "metadata": {},
   "outputs": [],
   "source": [
    "#create the decision tree classifier using the entropy criterion\n",
    "clf =  tree.DecisionTreeClassifier(criterion='entropy')\n",
    "clf = clf.fit(x_train,y_train)"
   ]
  },
  {
   "cell_type": "code",
   "execution_count": 33,
   "id": "9126f2fc",
   "metadata": {},
   "outputs": [],
   "source": [
    "#running the predictions\n",
    "y_predict=clf.predict(x_test)"
   ]
  },
  {
   "cell_type": "code",
   "execution_count": 34,
   "id": "14b7d0f4",
   "metadata": {},
   "outputs": [
    {
     "name": "stdout",
     "output_type": "stream",
     "text": [
      "0.06432748538011701\n"
     ]
    }
   ],
   "source": [
    "err=1.0-metrics.accuracy_score(y_test,clf.predict(x_test))\n",
    "print(err)"
   ]
  },
  {
   "cell_type": "code",
   "execution_count": 35,
   "id": "0ddbf0f3",
   "metadata": {},
   "outputs": [
    {
     "data": {
      "text/plain": [
       "11.000000000000009"
      ]
     },
     "execution_count": 35,
     "metadata": {},
     "output_type": "execute_result"
    }
   ],
   "source": [
    "err*x_test.shape[0]"
   ]
  },
  {
   "cell_type": "code",
   "execution_count": 36,
   "id": "03c1852e",
   "metadata": {},
   "outputs": [
    {
     "data": {
      "image/png": "[encoded data removed]",
      "text/plain": [
       "<Figure size 432x288 with 1 Axes>"
      ]
     },
     "metadata": {
      "needs_background": "light"
     },
     "output_type": "display_data"
    }
   ],
   "source": [
    "tree.plot_tree(clf)\n",
    "plt.show()"
   ]
  },
  {
   "cell_type": "code",
   "execution_count": 37,
   "id": "b58eb5ce",
   "metadata": {},
   "outputs": [
    {
     "name": "stdout",
     "output_type": "stream",
     "text": [
      "the number of misslabled points out of a total 171 points : 11\n"
     ]
    }
   ],
   "source": [
    "#printing how many labels were missclassified\n",
    "print(\"the number of misslabled points out of a total %d points : %d\"%(x_test.shape[0],(y_test !=y_predict).sum()))"
   ]
  },
  {
   "cell_type": "markdown",
   "id": "7175a002",
   "metadata": {},
   "source": [
    "Use Random Forests"
   ]
  },
  {
   "cell_type": "code",
   "execution_count": 38,
   "id": "389b3d88",
   "metadata": {},
   "outputs": [],
   "source": [
    "clf = RandomForestClassifier(n_estimators=10,criterion='entropy',random_state=0)\n",
    "clf = clf.fit(x_train, y_train)"
   ]
  },
  {
   "cell_type": "code",
   "execution_count": 39,
   "id": "a7e37290",
   "metadata": {},
   "outputs": [],
   "source": [
    "y_predict = clf.predict(x_test)"
   ]
  },
  {
   "cell_type": "code",
   "execution_count": 40,
   "id": "abc4cf1d",
   "metadata": {},
   "outputs": [
    {
     "name": "stdout",
     "output_type": "stream",
     "text": [
      "0.04678362573099415\n"
     ]
    }
   ],
   "source": [
    "err=1.0-metrics.accuracy_score(y_test,clf.predict(x_test))\n",
    "print(err)"
   ]
  },
  {
   "cell_type": "code",
   "execution_count": 41,
   "id": "8c2543eb",
   "metadata": {},
   "outputs": [
    {
     "name": "stdout",
     "output_type": "stream",
     "text": [
      "8.0\n"
     ]
    }
   ],
   "source": [
    "#calculationg the number of misslabeled individuals\n",
    "print(err*len(y_predict))"
   ]
  },
  {
   "cell_type": "code",
   "execution_count": 42,
   "id": "4adb5f9c",
   "metadata": {},
   "outputs": [
    {
     "name": "stdout",
     "output_type": "stream",
     "text": [
      "the number of misslabled points out of a total 171 points : 8\n"
     ]
    }
   ],
   "source": [
    "#printing how many labels were missclassified\n",
    "print(\"the number of misslabled points out of a total %d points : %d\"%(x_test.shape[0],(y_test !=y_predict).sum()))"
   ]
  },
  {
   "cell_type": "markdown",
   "id": "5c59b7cf",
   "metadata": {},
   "source": [
    "The methods that returns the best results is : random forests method because the number of misslabled points out of a total 171 points : 8 which is the lowest number"
   ]
  },
  {
   "cell_type": "code",
   "execution_count": null,
   "id": "dee02420",
   "metadata": {},
   "outputs": [],
   "source": []
  }
 ],
 "metadata": {
  "kernelspec": {
   "display_name": "Python 3",
   "language": "python",
   "name": "python3"
  },
  "language_info": {
   "codemirror_mode": {
    "name": "ipython",
    "version": 3
   },
   "file_extension": ".py",
   "mimetype": "text/x-python",
   "name": "python",
   "nbconvert_exporter": "python",
   "pygments_lexer": "ipython3",
   "version": "3.8.8"
  }
 },
 "nbformat": 4,
 "nbformat_minor": 5
}
