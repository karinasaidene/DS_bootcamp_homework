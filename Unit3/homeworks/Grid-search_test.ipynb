{
 "cells": [
  {
   "cell_type": "code",
   "execution_count": 2,
   "id": "9b1a912a",
   "metadata": {},
   "outputs": [],
   "source": [
    "from sklearn.datasets import load_breast_cancer\n",
    "from sklearn.svm import SVC\n",
    "from sklearn.model_selection import train_test_split\n",
    "from sklearn.model_selection import GridSearchCV\n",
    "from sklearn.metrics import classification_report"
   ]
  },
  {
   "cell_type": "code",
   "execution_count": 10,
   "id": "7e1b10ad",
   "metadata": {},
   "outputs": [
    {
     "name": "stdout",
     "output_type": "stream",
     "text": [
      "[[1.799e+01 1.038e+01 1.228e+02 ... 2.654e-01 4.601e-01 1.189e-01]\n",
      " [2.057e+01 1.777e+01 1.329e+02 ... 1.860e-01 2.750e-01 8.902e-02]\n",
      " [1.969e+01 2.125e+01 1.300e+02 ... 2.430e-01 3.613e-01 8.758e-02]\n",
      " ...\n",
      " [1.660e+01 2.808e+01 1.083e+02 ... 1.418e-01 2.218e-01 7.820e-02]\n",
      " [2.060e+01 2.933e+01 1.401e+02 ... 2.650e-01 4.087e-01 1.240e-01]\n",
      " [7.760e+00 2.454e+01 4.792e+01 ... 0.000e+00 2.871e-01 7.039e-02]]\n"
     ]
    }
   ],
   "source": [
    "#load the data set and split it into train,test\n",
    "data = load_breast_cancer()\n",
    "X =data.data\n",
    "y= data.target\n",
    "print(X)\n",
    "\n",
    "X_train,X_test,y_train,y_test =train_test_split(X,y,test_size=0.2, random_state=42)"
   ]
  },
  {
   "cell_type": "code",
   "execution_count": 4,
   "id": "84437ae6",
   "metadata": {},
   "outputs": [],
   "source": [
    "#set the parameters by cross-avalidation\n",
    "tuned_parameters = [{'kernel':['rbf','linear'],'gamma':(1e-3,1e-4),'C':[1,10,100,1000]}]"
   ]
  },
  {
   "cell_type": "code",
   "execution_count": 5,
   "id": "e2f012f0",
   "metadata": {},
   "outputs": [],
   "source": [
    "scores = ['precision', 'recall'] "
   ]
  },
  {
   "cell_type": "code",
   "execution_count": null,
   "id": "127e4187",
   "metadata": {},
   "outputs": [],
   "source": []
  },
  {
   "cell_type": "code",
   "execution_count": 8,
   "id": "7bd67300",
   "metadata": {},
   "outputs": [],
   "source": [
    "def grid_search(X_train,y_train,X_test,y_test,tunes_params,metric=\"precion\"):\n",
    "    print('Turning hyper parameters for %s' %metric)\n",
    "    clf = GridSearchCV(SVC(),tuned_parameters,scoring ='%s_macro'%metric)\n",
    "    clf.fit(X_train,y_train)\n",
    "    print('Best params found')\n",
    "    print(clf.best_params_)\n",
    "    print('Grid scores on development set :')\n",
    "    print(clf.best_estimator_)\n",
    "    print()\n",
    "    means = clf.cv_results_['mean_test_score']\n",
    "    stds = clf.cv_results_['std_test_score']\n",
    "    for mean, std, params in zip(means,stds,clf.cv_results_['params']) :\n",
    "        print ('%0.3f (+/-%0.03f) for %r'\n",
    "        %(mean,std*2,params))\n",
    "        \n",
    "    print('classification report')\n",
    "    y_true,y_pred = y_test, clf.predict(X_test)\n",
    "    print(classification_report(y_true,y_pred))\n",
    "    \n",
    "    "
   ]
  },
  {
   "cell_type": "code",
   "execution_count": 9,
   "id": "cbeb8413",
   "metadata": {},
   "outputs": [
    {
     "name": "stdout",
     "output_type": "stream",
     "text": [
      "Turning hyper parameters for precision\n",
      "Best params found\n",
      "{'C': 100, 'gamma': 0.001, 'kernel': 'linear'}\n",
      "Grid scores on development set :\n",
      "SVC(C=100, gamma=0.001, kernel='linear')\n",
      "\n",
      "0.902 (+/-0.045) for {'C': 1, 'gamma': 0.001, 'kernel': 'rbf'}\n",
      "0.957 (+/-0.052) for {'C': 1, 'gamma': 0.001, 'kernel': 'linear'}\n",
      "0.933 (+/-0.046) for {'C': 1, 'gamma': 0.0001, 'kernel': 'rbf'}\n",
      "0.957 (+/-0.052) for {'C': 1, 'gamma': 0.0001, 'kernel': 'linear'}\n",
      "0.897 (+/-0.037) for {'C': 10, 'gamma': 0.001, 'kernel': 'rbf'}\n",
      "0.955 (+/-0.038) for {'C': 10, 'gamma': 0.001, 'kernel': 'linear'}\n",
      "0.954 (+/-0.041) for {'C': 10, 'gamma': 0.0001, 'kernel': 'rbf'}\n",
      "0.955 (+/-0.038) for {'C': 10, 'gamma': 0.0001, 'kernel': 'linear'}\n",
      "0.897 (+/-0.037) for {'C': 100, 'gamma': 0.001, 'kernel': 'rbf'}\n",
      "0.972 (+/-0.053) for {'C': 100, 'gamma': 0.001, 'kernel': 'linear'}\n",
      "0.942 (+/-0.031) for {'C': 100, 'gamma': 0.0001, 'kernel': 'rbf'}\n",
      "0.972 (+/-0.053) for {'C': 100, 'gamma': 0.0001, 'kernel': 'linear'}\n",
      "0.897 (+/-0.037) for {'C': 1000, 'gamma': 0.001, 'kernel': 'rbf'}\n",
      "0.968 (+/-0.034) for {'C': 1000, 'gamma': 0.001, 'kernel': 'linear'}\n",
      "0.921 (+/-0.055) for {'C': 1000, 'gamma': 0.0001, 'kernel': 'rbf'}\n",
      "0.968 (+/-0.034) for {'C': 1000, 'gamma': 0.0001, 'kernel': 'linear'}\n",
      "classification report\n",
      "              precision    recall  f1-score   support\n",
      "\n",
      "           0       0.97      0.91      0.94        43\n",
      "           1       0.95      0.99      0.97        71\n",
      "\n",
      "    accuracy                           0.96       114\n",
      "   macro avg       0.96      0.95      0.95       114\n",
      "weighted avg       0.96      0.96      0.96       114\n",
      "\n"
     ]
    }
   ],
   "source": [
    "#Grid Search using only the precision\n",
    "import warnings\n",
    "warnings.filterwarnings(\"ignore\")\n",
    "\n",
    "grid_search(X_train,y_train,X_test,y_test,tuned_parameters,scores[0])"
   ]
  },
  {
   "cell_type": "code",
   "execution_count": null,
   "id": "5a205221",
   "metadata": {},
   "outputs": [],
   "source": [
    "#grid Search using only the recall\n",
    "grid_seatch(X_train, y_train,X_test,y_test,tuned_parameters,scores[1])"
   ]
  },
  {
   "cell_type": "code",
   "execution_count": null,
   "id": "e3229f21",
   "metadata": {},
   "outputs": [],
   "source": []
  }
 ],
 "metadata": {
  "kernelspec": {
   "display_name": "Python 3 (ipykernel)",
   "language": "python",
   "name": "python3"
  },
  "language_info": {
   "codemirror_mode": {
    "name": "ipython",
    "version": 3
   },
   "file_extension": ".py",
   "mimetype": "text/x-python",
   "name": "python",
   "nbconvert_exporter": "python",
   "pygments_lexer": "ipython3",
   "version": "3.9.7"
  }
 },
 "nbformat": 4,
 "nbformat_minor": 5
}
