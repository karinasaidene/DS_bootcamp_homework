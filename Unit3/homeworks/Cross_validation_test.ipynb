{
 "cells": [
  {
   "cell_type": "code",
   "execution_count": 2,
   "id": "9aced1f6",
   "metadata": {},
   "outputs": [],
   "source": [
    "#importing the necessary packages\n",
    "from sklearn.datasets import load_breast_cancer\n",
    "from sklearn.ensemble import RandomForestClassifier\n",
    "\n",
    "from sklearn.model_selection import train_test_split\n",
    "from sklearn.model_selection import KFold\n",
    "from sklearn.model_selection import LeaveOneOut\n",
    "\n",
    "from sklearn import metrics \n",
    "import numpy as np"
   ]
  },
  {
   "cell_type": "code",
   "execution_count": 3,
   "id": "c8b1da7b",
   "metadata": {},
   "outputs": [],
   "source": [
    "#load the dataset\n",
    "X, y = load_breast_cancer(return_X_y=True)"
   ]
  },
  {
   "cell_type": "code",
   "execution_count": 4,
   "id": "39e94da3",
   "metadata": {},
   "outputs": [],
   "source": [
    "#creating the random forest classifier using the 10 decision trees and the entropy critirion\n",
    "clf = RandomForestClassifier(n_estimators = 10,criterion = 'entropy', random_state =0)"
   ]
  },
  {
   "cell_type": "code",
   "execution_count": 5,
   "id": "0eb17129",
   "metadata": {},
   "outputs": [
    {
     "name": "stdout",
     "output_type": "stream",
     "text": [
      "accuracy =  0.9473684210526315\n"
     ]
    }
   ],
   "source": [
    "#The holdout method\n",
    "X_train, X_test,y_train,y_test=train_test_split(X,y,test_size=0.2,random_state=0)\n",
    "clf= clf.fit(X_train,y_train)\n",
    "y_pred = clf.predict(X_test)\n",
    "print('accuracy = ',metrics.accuracy_score(y_test,y_pred))"
   ]
  },
  {
   "cell_type": "code",
   "execution_count": 9,
   "id": "1a3dd7ab",
   "metadata": {},
   "outputs": [
    {
     "name": "stdout",
     "output_type": "stream",
     "text": [
      "[0.9122807017543859, 0.9385964912280702, 0.9736842105263158, 0.9649122807017544, 0.9646017699115044]\n",
      "Cross-validation accucary = 0.9508150908244062\n"
     ]
    }
   ],
   "source": [
    "#K cross Validation\n",
    "kf = KFold(n_splits =5)\n",
    "accuracies= []\n",
    "for train_index, test_index in kf.split(X):\n",
    "    X_train, X_test = X[train_index],X[test_index]\n",
    "    y_train, y_test = y[train_index],y[test_index]\n",
    "    clf = clf.fit(X_train,y_train)\n",
    "    y_pred = clf.predict(X_test)\n",
    "    accuracies.append(metrics.accuracy_score(y_test,y_pred))\n",
    "    \n",
    "print(accuracies)\n",
    "print(\"Cross-validation accucary =\",np.mean(accuracies))\n"
   ]
  },
  {
   "cell_type": "code",
   "execution_count": 12,
   "id": "05e2ed38",
   "metadata": {},
   "outputs": [
    {
     "name": "stdout",
     "output_type": "stream",
     "text": [
      "Cross-validation accucary = 0.9578207381370826\n"
     ]
    }
   ],
   "source": [
    "#Leave-one-out cross-validation\n",
    "loo = LeaveOneOut()\n",
    "accuracies= []\n",
    "for train_index, test_index in loo.split(X):\n",
    "    X_train, X_test = X[train_index],X[test_index]\n",
    "    y_train, y_test = y[train_index],y[test_index]\n",
    "    clf = clf.fit(X_train,y_train)\n",
    "    y_pred = clf.predict(X_test)\n",
    "    accuracies.append(metrics.accuracy_score(y_test,y_pred))\n",
    "    \n",
    "print(\"Cross-validation accucary =\",np.mean(accuracies))\n"
   ]
  },
  {
   "cell_type": "code",
   "execution_count": null,
   "id": "cafb4827",
   "metadata": {},
   "outputs": [],
   "source": []
  }
 ],
 "metadata": {
  "kernelspec": {
   "display_name": "Python 3 (ipykernel)",
   "language": "python",
   "name": "python3"
  },
  "language_info": {
   "codemirror_mode": {
    "name": "ipython",
    "version": 3
   },
   "file_extension": ".py",
   "mimetype": "text/x-python",
   "name": "python",
   "nbconvert_exporter": "python",
   "pygments_lexer": "ipython3",
   "version": "3.9.7"
  }
 },
 "nbformat": 4,
 "nbformat_minor": 5
}
