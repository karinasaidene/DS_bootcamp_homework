{
 "cells": [
  {
   "cell_type": "code",
   "execution_count": 1,
   "id": "4df1e053",
   "metadata": {},
   "outputs": [
    {
     "data": {
      "text/html": [
       "<div>\n",
       "<style scoped>\n",
       "    .dataframe tbody tr th:only-of-type {\n",
       "        vertical-align: middle;\n",
       "    }\n",
       "\n",
       "    .dataframe tbody tr th {\n",
       "        vertical-align: top;\n",
       "    }\n",
       "\n",
       "    .dataframe thead th {\n",
       "        text-align: right;\n",
       "    }\n",
       "</style>\n",
       "<table border=\"1\" class=\"dataframe\">\n",
       "  <thead>\n",
       "    <tr style=\"text-align: right;\">\n",
       "      <th></th>\n",
       "      <th>Rank</th>\n",
       "      <th>Name</th>\n",
       "      <th>Platform</th>\n",
       "      <th>Year</th>\n",
       "      <th>Genre</th>\n",
       "      <th>Publisher</th>\n",
       "      <th>NA_Sales</th>\n",
       "      <th>EU_Sales</th>\n",
       "      <th>JP_Sales</th>\n",
       "      <th>Other_Sales</th>\n",
       "      <th>Global_Sales</th>\n",
       "    </tr>\n",
       "  </thead>\n",
       "  <tbody>\n",
       "    <tr>\n",
       "      <th>0</th>\n",
       "      <td>1</td>\n",
       "      <td>Wii Sports</td>\n",
       "      <td>Wii</td>\n",
       "      <td>2006.0</td>\n",
       "      <td>Sports</td>\n",
       "      <td>Nintendo</td>\n",
       "      <td>41.49</td>\n",
       "      <td>29.02</td>\n",
       "      <td>3.77</td>\n",
       "      <td>8.46</td>\n",
       "      <td>82.74</td>\n",
       "    </tr>\n",
       "    <tr>\n",
       "      <th>1</th>\n",
       "      <td>2</td>\n",
       "      <td>Super Mario Bros.</td>\n",
       "      <td>NES</td>\n",
       "      <td>1985.0</td>\n",
       "      <td>Platform</td>\n",
       "      <td>Nintendo</td>\n",
       "      <td>29.08</td>\n",
       "      <td>3.58</td>\n",
       "      <td>6.81</td>\n",
       "      <td>0.77</td>\n",
       "      <td>40.24</td>\n",
       "    </tr>\n",
       "    <tr>\n",
       "      <th>2</th>\n",
       "      <td>3</td>\n",
       "      <td>Mario Kart Wii</td>\n",
       "      <td>Wii</td>\n",
       "      <td>2008.0</td>\n",
       "      <td>Racing</td>\n",
       "      <td>Nintendo</td>\n",
       "      <td>15.85</td>\n",
       "      <td>12.88</td>\n",
       "      <td>3.79</td>\n",
       "      <td>3.31</td>\n",
       "      <td>35.82</td>\n",
       "    </tr>\n",
       "    <tr>\n",
       "      <th>3</th>\n",
       "      <td>4</td>\n",
       "      <td>Wii Sports Resort</td>\n",
       "      <td>Wii</td>\n",
       "      <td>2009.0</td>\n",
       "      <td>Sports</td>\n",
       "      <td>Nintendo</td>\n",
       "      <td>15.75</td>\n",
       "      <td>11.01</td>\n",
       "      <td>3.28</td>\n",
       "      <td>2.96</td>\n",
       "      <td>33.00</td>\n",
       "    </tr>\n",
       "    <tr>\n",
       "      <th>4</th>\n",
       "      <td>5</td>\n",
       "      <td>Pokemon Red/Pokemon Blue</td>\n",
       "      <td>GB</td>\n",
       "      <td>1996.0</td>\n",
       "      <td>Role-Playing</td>\n",
       "      <td>Nintendo</td>\n",
       "      <td>11.27</td>\n",
       "      <td>8.89</td>\n",
       "      <td>10.22</td>\n",
       "      <td>1.00</td>\n",
       "      <td>31.37</td>\n",
       "    </tr>\n",
       "  </tbody>\n",
       "</table>\n",
       "</div>"
      ],
      "text/plain": [
       "   Rank                      Name Platform    Year         Genre Publisher  \\\n",
       "0     1                Wii Sports      Wii  2006.0        Sports  Nintendo   \n",
       "1     2         Super Mario Bros.      NES  1985.0      Platform  Nintendo   \n",
       "2     3            Mario Kart Wii      Wii  2008.0        Racing  Nintendo   \n",
       "3     4         Wii Sports Resort      Wii  2009.0        Sports  Nintendo   \n",
       "4     5  Pokemon Red/Pokemon Blue       GB  1996.0  Role-Playing  Nintendo   \n",
       "\n",
       "   NA_Sales  EU_Sales  JP_Sales  Other_Sales  Global_Sales  \n",
       "0     41.49     29.02      3.77         8.46         82.74  \n",
       "1     29.08      3.58      6.81         0.77         40.24  \n",
       "2     15.85     12.88      3.79         3.31         35.82  \n",
       "3     15.75     11.01      3.28         2.96         33.00  \n",
       "4     11.27      8.89     10.22         1.00         31.37  "
      ]
     },
     "execution_count": 1,
     "metadata": {},
     "output_type": "execute_result"
    }
   ],
   "source": [
    "import pandas as pd\n",
    "df = pd.read_csv(\"vgsales.csv\")\n",
    "df.head()"
   ]
  },
  {
   "cell_type": "code",
   "execution_count": 2,
   "id": "25b7e159",
   "metadata": {},
   "outputs": [
    {
     "data": {
      "text/plain": [
       "Rank              0\n",
       "Name              0\n",
       "Platform          0\n",
       "Year            271\n",
       "Genre             0\n",
       "Publisher        58\n",
       "NA_Sales          0\n",
       "EU_Sales          0\n",
       "JP_Sales          0\n",
       "Other_Sales       0\n",
       "Global_Sales      0\n",
       "dtype: int64"
      ]
     },
     "execution_count": 2,
     "metadata": {},
     "output_type": "execute_result"
    }
   ],
   "source": [
    "#question 1\n",
    "df.isna().sum()\n"
   ]
  },
  {
   "cell_type": "code",
   "execution_count": 3,
   "id": "64fb08db",
   "metadata": {},
   "outputs": [],
   "source": [
    "#what assumptions can we make about these missing values?\n"
   ]
  },
  {
   "cell_type": "code",
   "execution_count": 4,
   "id": "f2ca0aa3",
   "metadata": {},
   "outputs": [
    {
     "data": {
      "text/plain": [
       "8300.605253645017"
      ]
     },
     "execution_count": 4,
     "metadata": {},
     "output_type": "execute_result"
    }
   ],
   "source": [
    "#mean , median , quantile of first numerical value RANK\n",
    "df['Rank'].mean()"
   ]
  },
  {
   "cell_type": "code",
   "execution_count": 5,
   "id": "7ca26f42",
   "metadata": {},
   "outputs": [
    {
     "data": {
      "text/plain": [
       "8300.5"
      ]
     },
     "execution_count": 5,
     "metadata": {},
     "output_type": "execute_result"
    }
   ],
   "source": [
    "df['Rank'].median()\n"
   ]
  },
  {
   "cell_type": "code",
   "execution_count": 6,
   "id": "d4af3bb2",
   "metadata": {},
   "outputs": [
    {
     "data": {
      "text/plain": [
       "0.25     4151.25\n",
       "0.50     8300.50\n",
       "0.75    12449.75\n",
       "Name: Rank, dtype: float64"
      ]
     },
     "execution_count": 6,
     "metadata": {},
     "output_type": "execute_result"
    }
   ],
   "source": [
    "df.Rank.quantile([0.25,0.50,0.75])"
   ]
  },
  {
   "cell_type": "code",
   "execution_count": 7,
   "id": "4e820e92",
   "metadata": {},
   "outputs": [
    {
     "data": {
      "text/plain": [
       "2006.4064433147546"
      ]
     },
     "execution_count": 7,
     "metadata": {},
     "output_type": "execute_result"
    }
   ],
   "source": [
    "#mean , median , quantile of second numerical value RANK\n",
    "df['Year'].mean()"
   ]
  },
  {
   "cell_type": "code",
   "execution_count": 8,
   "id": "62fd5fd1",
   "metadata": {},
   "outputs": [
    {
     "data": {
      "text/plain": [
       "2007.0"
      ]
     },
     "execution_count": 8,
     "metadata": {},
     "output_type": "execute_result"
    }
   ],
   "source": [
    "df['Year'].median()"
   ]
  },
  {
   "cell_type": "code",
   "execution_count": 9,
   "id": "21e001d5",
   "metadata": {},
   "outputs": [
    {
     "data": {
      "text/plain": [
       "0.25    2003.0\n",
       "0.50    2007.0\n",
       "0.75    2010.0\n",
       "Name: Year, dtype: float64"
      ]
     },
     "execution_count": 9,
     "metadata": {},
     "output_type": "execute_result"
    }
   ],
   "source": [
    "df.Year.quantile([0.25,0.50,0.75])"
   ]
  },
  {
   "cell_type": "code",
   "execution_count": 10,
   "id": "30c81830",
   "metadata": {},
   "outputs": [
    {
     "data": {
      "text/plain": [
       "0.26466742981084057"
      ]
     },
     "execution_count": 10,
     "metadata": {},
     "output_type": "execute_result"
    }
   ],
   "source": [
    "#mean , median , quantile of THird numerical value NA_sales\n",
    "df['NA_Sales'].mean()"
   ]
  },
  {
   "cell_type": "code",
   "execution_count": 11,
   "id": "1d941a8f",
   "metadata": {},
   "outputs": [
    {
     "data": {
      "text/plain": [
       "0.08"
      ]
     },
     "execution_count": 11,
     "metadata": {},
     "output_type": "execute_result"
    }
   ],
   "source": [
    "df['NA_Sales'].median()"
   ]
  },
  {
   "cell_type": "code",
   "execution_count": 12,
   "id": "db89d2ab",
   "metadata": {},
   "outputs": [
    {
     "data": {
      "text/plain": [
       "0.25    0.00\n",
       "0.50    0.08\n",
       "0.75    0.24\n",
       "Name: NA_Sales, dtype: float64"
      ]
     },
     "execution_count": 12,
     "metadata": {},
     "output_type": "execute_result"
    }
   ],
   "source": [
    "df.NA_Sales.quantile([0.25,0.50,0.75])"
   ]
  },
  {
   "cell_type": "code",
   "execution_count": 13,
   "id": "40b2f841",
   "metadata": {},
   "outputs": [
    {
     "data": {
      "text/plain": [
       "0.1466520062658483"
      ]
     },
     "execution_count": 13,
     "metadata": {},
     "output_type": "execute_result"
    }
   ],
   "source": [
    "#mean , median , quantile of fourth numerical value EU_sales\n",
    "df['EU_Sales'].mean()"
   ]
  },
  {
   "cell_type": "code",
   "execution_count": 14,
   "id": "c341582f",
   "metadata": {},
   "outputs": [
    {
     "data": {
      "text/plain": [
       "0.02"
      ]
     },
     "execution_count": 14,
     "metadata": {},
     "output_type": "execute_result"
    }
   ],
   "source": [
    "df['EU_Sales'].median()"
   ]
  },
  {
   "cell_type": "code",
   "execution_count": 15,
   "id": "896b248d",
   "metadata": {},
   "outputs": [
    {
     "data": {
      "text/plain": [
       "0.25    0.00\n",
       "0.50    0.02\n",
       "0.75    0.11\n",
       "Name: EU_Sales, dtype: float64"
      ]
     },
     "execution_count": 15,
     "metadata": {},
     "output_type": "execute_result"
    }
   ],
   "source": [
    "df.EU_Sales.quantile([0.25,0.50,0.75])"
   ]
  },
  {
   "cell_type": "code",
   "execution_count": 16,
   "id": "f77ec0ab",
   "metadata": {},
   "outputs": [
    {
     "data": {
      "text/plain": [
       "0.048063019640913515"
      ]
     },
     "execution_count": 16,
     "metadata": {},
     "output_type": "execute_result"
    }
   ],
   "source": [
    "#mean , median , quantile of fifth numerical value Other_sales\n",
    "df['Other_Sales'].mean()"
   ]
  },
  {
   "cell_type": "code",
   "execution_count": 17,
   "id": "76f8b1ca",
   "metadata": {},
   "outputs": [
    {
     "data": {
      "text/plain": [
       "0.01"
      ]
     },
     "execution_count": 17,
     "metadata": {},
     "output_type": "execute_result"
    }
   ],
   "source": [
    "df['Other_Sales'].median()"
   ]
  },
  {
   "cell_type": "code",
   "execution_count": 18,
   "id": "e119831f",
   "metadata": {},
   "outputs": [
    {
     "data": {
      "text/plain": [
       "0.25    0.00\n",
       "0.50    0.01\n",
       "0.75    0.04\n",
       "Name: Other_Sales, dtype: float64"
      ]
     },
     "execution_count": 18,
     "metadata": {},
     "output_type": "execute_result"
    }
   ],
   "source": [
    "df.Other_Sales.quantile([0.25,0.50,0.75])"
   ]
  },
  {
   "cell_type": "code",
   "execution_count": 19,
   "id": "0dcaeb80",
   "metadata": {},
   "outputs": [
    {
     "data": {
      "text/plain": [
       "0.53744065550074"
      ]
     },
     "execution_count": 19,
     "metadata": {},
     "output_type": "execute_result"
    }
   ],
   "source": [
    "#mean , median , quantile of sixth numerical value Global_sales\n",
    "df['Global_Sales'].mean()"
   ]
  },
  {
   "cell_type": "code",
   "execution_count": 20,
   "id": "97b22b84",
   "metadata": {},
   "outputs": [
    {
     "data": {
      "text/plain": [
       "0.17"
      ]
     },
     "execution_count": 20,
     "metadata": {},
     "output_type": "execute_result"
    }
   ],
   "source": [
    "df['Global_Sales'].median()"
   ]
  },
  {
   "cell_type": "code",
   "execution_count": 21,
   "id": "fa03cd62",
   "metadata": {},
   "outputs": [
    {
     "data": {
      "text/plain": [
       "0.25    0.06\n",
       "0.50    0.17\n",
       "0.75    0.47\n",
       "Name: Global_Sales, dtype: float64"
      ]
     },
     "execution_count": 21,
     "metadata": {},
     "output_type": "execute_result"
    }
   ],
   "source": [
    "df.Global_Sales.quantile([0.25,0.50,0.75])"
   ]
  },
  {
   "cell_type": "code",
   "execution_count": 22,
   "id": "6165cc05",
   "metadata": {},
   "outputs": [],
   "source": [
    "#deal with the missing values in Year"
   ]
  },
  {
   "cell_type": "code",
   "execution_count": 34,
   "id": "cc6ab6c5",
   "metadata": {},
   "outputs": [],
   "source": [
    "#deal with the missing values in publisher\n",
    "df.dropna(inplace=True)"
   ]
  },
  {
   "cell_type": "code",
   "execution_count": 24,
   "id": "3c96f64a",
   "metadata": {},
   "outputs": [],
   "source": [
    "#spot the outliers \n",
    "df['NA_Sales_zscore']=(df.NA_Sales-df.NA_Sales.mean())/df.NA_Sales.std()\n",
    "df=df[df['NA_Sales_zscore']>3]"
   ]
  },
  {
   "cell_type": "code",
   "execution_count": 25,
   "id": "e4f07542",
   "metadata": {},
   "outputs": [],
   "source": [
    "#spot the outliers \n",
    "df['EU_Sales_zscore']=(df.EU_Sales-df.EU_Sales.mean())/df.EU_Sales.std()\n",
    "df=df[df['EU_Sales_zscore']>2.5]"
   ]
  },
  {
   "cell_type": "code",
   "execution_count": 26,
   "id": "ee5ffa7b",
   "metadata": {},
   "outputs": [
    {
     "name": "stdout",
     "output_type": "stream",
     "text": [
      "    Rank               Name Platform    Year       Genre Publisher  NA_Sales  \\\n",
      "0      1         Wii Sports      Wii  2006.0      Sports  Nintendo     41.49   \n",
      "2      3     Mario Kart Wii      Wii  2008.0      Racing  Nintendo     15.85   \n",
      "3      4  Wii Sports Resort      Wii  2009.0      Sports  Nintendo     15.75   \n",
      "10    11         Nintendogs       DS  2005.0  Simulation  Nintendo      9.07   \n",
      "\n",
      "    EU_Sales  JP_Sales  Other_Sales  Global_Sales  NA_Sales_zscore  \\\n",
      "0      29.02      3.77         8.46         82.74        50.478988   \n",
      "2      12.88      3.79         3.31         35.82        19.083698   \n",
      "3      11.01      3.28         2.96         33.00        18.961252   \n",
      "10     11.00      1.93         2.75         24.76        10.781824   \n",
      "\n",
      "    EU_Sales_zscore  \n",
      "0          8.626415  \n",
      "2          3.295934  \n",
      "3          2.678338  \n",
      "10         2.675035  \n"
     ]
    }
   ],
   "source": [
    "print(df)"
   ]
  },
  {
   "cell_type": "code",
   "execution_count": 27,
   "id": "2527d421",
   "metadata": {},
   "outputs": [
    {
     "data": {
      "text/plain": [
       "1"
      ]
     },
     "execution_count": 27,
     "metadata": {},
     "output_type": "execute_result"
    }
   ],
   "source": [
    "#count number of unique categories\n",
    "df['Publisher'].value_counts().count()"
   ]
  },
  {
   "cell_type": "code",
   "execution_count": 28,
   "id": "9b5d7060",
   "metadata": {},
   "outputs": [
    {
     "data": {
      "text/plain": [
       "4"
      ]
     },
     "execution_count": 28,
     "metadata": {},
     "output_type": "execute_result"
    }
   ],
   "source": [
    "df['Name'].value_counts().count()"
   ]
  },
  {
   "cell_type": "code",
   "execution_count": 29,
   "id": "8be85d16",
   "metadata": {},
   "outputs": [
    {
     "data": {
      "text/plain": [
       "2"
      ]
     },
     "execution_count": 29,
     "metadata": {},
     "output_type": "execute_result"
    }
   ],
   "source": [
    "df['Platform'].value_counts().count()"
   ]
  },
  {
   "cell_type": "code",
   "execution_count": 30,
   "id": "da4a8e99",
   "metadata": {},
   "outputs": [
    {
     "data": {
      "text/plain": [
       "3"
      ]
     },
     "execution_count": 30,
     "metadata": {},
     "output_type": "execute_result"
    }
   ],
   "source": [
    "df['Genre'].value_counts().count()"
   ]
  },
  {
   "cell_type": "code",
   "execution_count": 31,
   "id": "8c446bc4",
   "metadata": {},
   "outputs": [
    {
     "name": "stdout",
     "output_type": "stream",
     "text": [
      "    Rank               Name Platform    Year       Genre Publisher  NA_Sales  \\\n",
      "0      1         Wii Sports      Wii  2006.0      Sports  Nintendo     41.49   \n",
      "2      3     Mario Kart Wii      Wii  2008.0      Racing  Nintendo     15.85   \n",
      "3      4  Wii Sports Resort      Wii  2009.0      Sports  Nintendo     15.75   \n",
      "10    11         Nintendogs       DS  2005.0  Simulation  Nintendo      9.07   \n",
      "\n",
      "    EU_Sales  JP_Sales  Other_Sales  Global_Sales  NA_Sales_zscore  \\\n",
      "0      29.02      3.77         8.46         82.74        50.478988   \n",
      "2      12.88      3.79         3.31         35.82        19.083698   \n",
      "3      11.01      3.28         2.96         33.00        18.961252   \n",
      "10     11.00      1.93         2.75         24.76        10.781824   \n",
      "\n",
      "    EU_Sales_zscore  \n",
      "0          8.626415  \n",
      "2          3.295934  \n",
      "3          2.678338  \n",
      "10         2.675035  \n"
     ]
    }
   ],
   "source": [
    "#question5 : yes question 2,4,5,6\n",
    "y1=pd.get_dummies(df.Name,prefix='Name')\n",
    "y2=pd.get_dummies(df.Platform,prefix='Platform')\n",
    "y3=pd.get_dummies(df.Genre,prefix='Genre')\n",
    "print(df)"
   ]
  },
  {
   "cell_type": "code",
   "execution_count": 32,
   "id": "377ba977",
   "metadata": {},
   "outputs": [
    {
     "name": "stdout",
     "output_type": "stream",
     "text": [
      "    Rank                   Name Platform    Year       Genre Publisher  \\\n",
      "0      1          [Wii, Sports]      Wii  2006.0      Sports  Nintendo   \n",
      "2      3     [Mario, Kart, Wii]      Wii  2008.0      Racing  Nintendo   \n",
      "3      4  [Wii, Sports, Resort]      Wii  2009.0      Sports  Nintendo   \n",
      "10    11           [Nintendogs]       DS  2005.0  Simulation  Nintendo   \n",
      "\n",
      "    NA_Sales  EU_Sales  JP_Sales  Other_Sales  Global_Sales  NA_Sales_zscore  \\\n",
      "0      41.49     29.02      3.77         8.46         82.74        50.478988   \n",
      "2      15.85     12.88      3.79         3.31         35.82        19.083698   \n",
      "3      15.75     11.01      3.28         2.96         33.00        18.961252   \n",
      "10      9.07     11.00      1.93         2.75         24.76        10.781824   \n",
      "\n",
      "    EU_Sales_zscore    Wii  Sports  Mario  Nintendogs  Resort   Kart  \n",
      "0          8.626415   True    True  False       False   False  False  \n",
      "2          3.295934   True   False   True       False   False   True  \n",
      "3          2.678338   True    True  False       False    True  False  \n",
      "10         2.675035  False   False  False        True   False  False  \n"
     ]
    }
   ],
   "source": [
    "#dealing with tags\n",
    "df['Name'] = df['Name'].str.split(pat=' ')\n",
    "\n",
    "# collect all unique tags from those lists\n",
    "tags = set(df['Name'].explode().values)\n",
    "\n",
    "# create a new Boolean column for each tag\n",
    "for tag in tags:\n",
    "    df[tag] = [tag in df['Name'].loc[i] for i in df.index]\n",
    "print(df)"
   ]
  },
  {
   "cell_type": "code",
   "execution_count": null,
   "id": "3a5e7286",
   "metadata": {},
   "outputs": [],
   "source": []
  }
 ],
 "metadata": {
  "kernelspec": {
   "display_name": "Python 3",
   "language": "python",
   "name": "python3"
  },
  "language_info": {
   "codemirror_mode": {
    "name": "ipython",
    "version": 3
   },
   "file_extension": ".py",
   "mimetype": "text/x-python",
   "name": "python",
   "nbconvert_exporter": "python",
   "pygments_lexer": "ipython3",
   "version": "3.8.8"
  }
 },
 "nbformat": 4,
 "nbformat_minor": 5
}
