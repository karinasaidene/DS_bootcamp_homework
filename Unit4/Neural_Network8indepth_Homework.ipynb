{
 "cells": [
  {
   "cell_type": "code",
   "execution_count": 10,
   "id": "5f2b46b6",
   "metadata": {},
   "outputs": [],
   "source": [
    "from sklearn.datasets import load_digits\n",
    "import numpy as np\n",
    "from numpy import array"
   ]
  },
  {
   "cell_type": "code",
   "execution_count": 14,
   "id": "d2f94158",
   "metadata": {},
   "outputs": [],
   "source": [
    "Xdigits,ydigits = load_digits(n_class=2, return_X_y=True, as_frame=True)\n"
   ]
  },
  {
   "cell_type": "code",
   "execution_count": 15,
   "id": "566daf17",
   "metadata": {},
   "outputs": [],
   "source": [
    "X=array(Xdigits)\n",
    "y=array(ydigits)"
   ]
  },
  {
   "cell_type": "code",
   "execution_count": 16,
   "id": "cb2b2fb8",
   "metadata": {},
   "outputs": [],
   "source": [
    "#faltten the image \n",
    "Ximg=X.flatten()\n",
    "yimg=y.flatten()"
   ]
  },
  {
   "cell_type": "code",
   "execution_count": 17,
   "id": "fd19367c",
   "metadata": {},
   "outputs": [
    {
     "data": {
      "image/png": "[encoded data removed]",
      "text/plain": [
       "<Figure size 432x288 with 1 Axes>"
      ]
     },
     "metadata": {
      "needs_background": "light"
     },
     "output_type": "display_data"
    }
   ],
   "source": [
    "from matplotlib import pyplot as plt\n",
    "for i in range(2):\n",
    "    s=np.where(yimg==i)\n",
    "    plt.scatter(X[s].T[0],X[s].T[1],label=str(i))\n",
    "    \n",
    "plt.legend()\n",
    "plt.show()"
   ]
  },
  {
   "cell_type": "code",
   "execution_count": 18,
   "id": "d224a7b4",
   "metadata": {},
   "outputs": [],
   "source": [
    "def segmoid(x) :\n",
    "    return 1/(1+np.exp(-x))"
   ]
  },
  {
   "cell_type": "code",
   "execution_count": null,
   "id": "4e250449",
   "metadata": {},
   "outputs": [],
   "source": []
  }
 ],
 "metadata": {
  "kernelspec": {
   "display_name": "Python 3 (ipykernel)",
   "language": "python",
   "name": "python3"
  },
  "language_info": {
   "codemirror_mode": {
    "name": "ipython",
    "version": 3
   },
   "file_extension": ".py",
   "mimetype": "text/x-python",
   "name": "python",
   "nbconvert_exporter": "python",
   "pygments_lexer": "ipython3",
   "version": "3.9.7"
  }
 },
 "nbformat": 4,
 "nbformat_minor": 5
}
