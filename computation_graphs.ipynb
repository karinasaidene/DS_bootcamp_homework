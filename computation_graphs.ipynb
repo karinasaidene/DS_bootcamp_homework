{
  "cells": [
    {
      "cell_type": "markdown",
      "metadata": {
        "id": "view-in-github",
        "colab_type": "text"
      },
      "source": [
        "<a href=\"https://colab.research.google.com/github/karinasaidene/DS_bootcamp_homework/blob/main/computation_graphs.ipynb\" target=\"_parent\"><img src=\"https://colab.research.google.com/assets/colab-badge.svg\" alt=\"Open In Colab\"/></a>"
      ]
    },
    {
      "cell_type": "code",
      "execution_count": 1,
      "id": "55574e8b",
      "metadata": {
        "id": "55574e8b"
      },
      "outputs": [],
      "source": [
        "import tensorflow as tf\n",
        "import timeit"
      ]
    },
    {
      "cell_type": "code",
      "source": [
        "def eager_sigmoid_function(x) :\n",
        "  return 1/(1+tf.math.exp(-x))\n",
        "\n",
        "x = tf.random.uniform([10])\n",
        "eager_sigmoid_function(x)"
      ],
      "metadata": {
        "colab": {
          "base_uri": "https://localhost:8080/"
        },
        "id": "QR4oLF44ENyJ",
        "outputId": "55daea38-a683-4c79-982e-c9fee4ec5680"
      },
      "id": "QR4oLF44ENyJ",
      "execution_count": 4,
      "outputs": [
        {
          "output_type": "execute_result",
          "data": {
            "text/plain": [
              "<tf.Tensor: shape=(10,), dtype=float32, numpy=\n",
              "array([0.51640064, 0.6364688 , 0.5316525 , 0.56824785, 0.72306716,\n",
              "       0.57698786, 0.66488844, 0.57708776, 0.58303547, 0.5355431 ],\n",
              "      dtype=float32)>"
            ]
          },
          "metadata": {},
          "execution_count": 4
        }
      ]
    },
    {
      "cell_type": "code",
      "source": [
        "graph_sigmoid_function = tf.function (eager_sigmoid_function)\n",
        "graph_sigmoid_function(x)"
      ],
      "metadata": {
        "colab": {
          "base_uri": "https://localhost:8080/"
        },
        "id": "VvBVevTdEfI0",
        "outputId": "7bd28194-a65c-49ef-b09c-4eafb9e3a67d"
      },
      "id": "VvBVevTdEfI0",
      "execution_count": 6,
      "outputs": [
        {
          "output_type": "execute_result",
          "data": {
            "text/plain": [
              "<tf.Tensor: shape=(10,), dtype=float32, numpy=\n",
              "array([0.51640064, 0.6364688 , 0.5316525 , 0.56824785, 0.72306716,\n",
              "       0.57698786, 0.66488844, 0.57708776, 0.58303547, 0.5355431 ],\n",
              "      dtype=float32)>"
            ]
          },
          "metadata": {},
          "execution_count": 6
        }
      ]
    },
    {
      "cell_type": "code",
      "source": [
        "print(\"eager_time :\",timeit.timeit(lambda:eager_sigmoid_function(x) , number = 100 ))\n",
        "print(\"graph_time :\",timeit.timeit(lambda:graph_sigmoid_function(x) , number = 100 ))"
      ],
      "metadata": {
        "colab": {
          "base_uri": "https://localhost:8080/"
        },
        "id": "hb4iur9WFInJ",
        "outputId": "2bfae9e2-c304-424d-9c17-cdd834978a92"
      },
      "id": "hb4iur9WFInJ",
      "execution_count": 7,
      "outputs": [
        {
          "output_type": "stream",
          "name": "stdout",
          "text": [
            "eager_time : 0.02091126700008772\n",
            "graph_time : 0.03686024900002849\n"
          ]
        }
      ]
    }
  ],
  "metadata": {
    "kernelspec": {
      "display_name": "Python 3 (ipykernel)",
      "language": "python",
      "name": "python3"
    },
    "language_info": {
      "codemirror_mode": {
        "name": "ipython",
        "version": 3
      },
      "file_extension": ".py",
      "mimetype": "text/x-python",
      "name": "python",
      "nbconvert_exporter": "python",
      "pygments_lexer": "ipython3",
      "version": "3.9.7"
    },
    "colab": {
      "name": "computation_graphs.ipynb",
      "provenance": [],
      "include_colab_link": true
    }
  },
  "nbformat": 4,
  "nbformat_minor": 5
}