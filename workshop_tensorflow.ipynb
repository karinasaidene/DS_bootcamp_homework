{
  "nbformat": 4,
  "nbformat_minor": 0,
  "metadata": {
    "colab": {
      "name": "workshop_tensorflow.ipynb",
      "provenance": [],
      "collapsed_sections": [],
      "authorship_tag": "ABX9TyNaz6eOu76c4ppBn0JmBBpJ",
      "include_colab_link": true
    },
    "kernelspec": {
      "name": "python3",
      "display_name": "Python 3"
    },
    "language_info": {
      "name": "python"
    }
  },
  "cells": [
    {
      "cell_type": "markdown",
      "metadata": {
        "id": "view-in-github",
        "colab_type": "text"
      },
      "source": [
        "<a href=\"https://colab.research.google.com/github/karinasaidene/DS_bootcamp_homework/blob/main/workshop_tensorflow.ipynb\" target=\"_parent\"><img src=\"https://colab.research.google.com/assets/colab-badge.svg\" alt=\"Open In Colab\"/></a>"
      ]
    },
    {
      "cell_type": "code",
      "execution_count": null,
      "metadata": {
        "id": "oO8m6j_ZgAiY"
      },
      "outputs": [],
      "source": [
        "import tensorflow as tf\n",
        "\n",
        "mnist = tf.keras.datasets.mnist"
      ]
    },
    {
      "cell_type": "code",
      "source": [
        "(x_train , y_train ),(x_test, y_test)=mnist.load_data()\n",
        "\n",
        "\n",
        "\n",
        "#scale the pixels\n",
        "\n",
        "x_train = tf.keras.utils.normalize(x_train, axis =1)\n",
        "x_test = tf.keras.utils.normalize(x_test, axis =1)"
      ],
      "metadata": {
        "id": "iQXzu-05ntK8"
      },
      "execution_count": null,
      "outputs": []
    },
    {
      "cell_type": "code",
      "source": [
        "import matplotlib.pyplot as plt\n",
        "plt.imshow(x_train[0],cmap=plt.cm.binary)\n",
        "plt.show()\n"
      ],
      "metadata": {
        "colab": {
          "base_uri": "https://localhost:8080/",
          "height": 265
        },
        "id": "CMNz-ZoYn-nF",
        "outputId": "1980cdb5-cd18-46e8-8b80-a3f46031f5b5"
      },
      "execution_count": null,
      "outputs": [
        {
          "output_type": "display_data",
          "data": {
            "image/png": "[encoded data removed]",
            "text/plain": [
              "<Figure size 432x288 with 1 Axes>"
            ]
          },
          "metadata": {
            "needs_background": "light"
          }
        }
      ]
    },
    {
      "cell_type": "code",
      "source": [
        "#create a model \n",
        "\n",
        "model = tf.keras.models.Sequential()\n",
        "model.add(tf.keras.layers.Flatten()) #this the first layer :flatten the input to a linear one because initially it was multidimenalary\n",
        "model.add(tf.keras.layers.Dense(128,activation = tf.nn.relu) )\n",
        "model.add(tf.keras.layers.Dense(128,activation = tf.nn.relu) )\n",
        "model.add(tf.keras.layers.Dense(10, activation= tf.nn.softmax))\n",
        "\n",
        "model.compile(optimizer ='adam' , loss ='sparse_categorical_crossentropy' , metrics=['accuracy'] )\n",
        "model.fit(x_train , y_train , epochs=3)"
      ],
      "metadata": {
        "colab": {
          "base_uri": "https://localhost:8080/"
        },
        "id": "86WS3Fqbqkr4",
        "outputId": "5102ea37-6452-447c-9137-b9503fd9d3cc"
      },
      "execution_count": null,
      "outputs": [
        {
          "output_type": "stream",
          "name": "stdout",
          "text": [
            "Epoch 1/3\n",
            "1875/1875 [==============================] - 5s 2ms/step - loss: 0.2596 - accuracy: 0.9245\n",
            "Epoch 2/3\n",
            "1875/1875 [==============================] - 5s 2ms/step - loss: 0.1068 - accuracy: 0.9674\n",
            "Epoch 3/3\n",
            "1875/1875 [==============================] - 5s 2ms/step - loss: 0.0742 - accuracy: 0.9772\n"
          ]
        },
        {
          "output_type": "execute_result",
          "data": {
            "text/plain": [
              "<keras.callbacks.History at 0x7f508a31e750>"
            ]
          },
          "metadata": {},
          "execution_count": 14
        }
      ]
    },
    {
      "cell_type": "code",
      "source": [
        "val_loss , val_acc =  model.evaluate(x_test , y_test)\n",
        "\n",
        "print(val_loss, val_acc)"
      ],
      "metadata": {
        "colab": {
          "base_uri": "https://localhost:8080/"
        },
        "id": "oG464FeYueCn",
        "outputId": "5459d743-ac10-47ad-e11e-70b773b704ec"
      },
      "execution_count": null,
      "outputs": [
        {
          "output_type": "stream",
          "name": "stdout",
          "text": [
            "313/313 [==============================] - 1s 2ms/step - loss: 0.0956 - accuracy: 0.9706\n",
            "0.09561584144830704 0.9706000089645386\n"
          ]
        }
      ]
    },
    {
      "cell_type": "code",
      "source": [
        "model.save('demo.model')"
      ],
      "metadata": {
        "colab": {
          "base_uri": "https://localhost:8080/"
        },
        "id": "y3_Q_hQU0I1t",
        "outputId": "bf0dcd8c-61e2-4ea2-c4e4-d66116d435f6"
      },
      "execution_count": null,
      "outputs": [
        {
          "output_type": "stream",
          "name": "stdout",
          "text": [
            "INFO:tensorflow:Assets written to: demo.model/assets\n"
          ]
        }
      ]
    },
    {
      "cell_type": "code",
      "source": [
        "model = tf.keras.models.load_model('demo.model')"
      ],
      "metadata": {
        "id": "HhT_r3P00Six"
      },
      "execution_count": null,
      "outputs": []
    },
    {
      "cell_type": "code",
      "source": [
        "prediction = model.predict([x_test])"
      ],
      "metadata": {
        "id": "SM-xsqXr0a0W"
      },
      "execution_count": null,
      "outputs": []
    },
    {
      "cell_type": "code",
      "source": [
        "import numpy as np\n",
        "\n",
        "print(np.argmax(prediction[0]))"
      ],
      "metadata": {
        "colab": {
          "base_uri": "https://localhost:8080/"
        },
        "id": "zhiD79mj0msW",
        "outputId": "ca984c65-e697-4215-efc0-3a6bbe59aa27"
      },
      "execution_count": null,
      "outputs": [
        {
          "output_type": "stream",
          "name": "stdout",
          "text": [
            "7\n"
          ]
        }
      ]
    },
    {
      "cell_type": "markdown",
      "source": [
        "TENSORDBOARD"
      ],
      "metadata": {
        "id": "zKsq97NNAiE5"
      }
    },
    {
      "cell_type": "code",
      "source": [
        "logdir = './unit4'"
      ],
      "metadata": {
        "id": "6sXapv2qAVT9"
      },
      "execution_count": null,
      "outputs": []
    },
    {
      "cell_type": "code",
      "source": [
        ""
      ],
      "metadata": {
        "id": "dR42npXABGCW"
      },
      "execution_count": null,
      "outputs": []
    },
    {
      "cell_type": "code",
      "source": [
        ""
      ],
      "metadata": {
        "id": "gMI1Sf5cBGIw"
      },
      "execution_count": null,
      "outputs": []
    },
    {
      "cell_type": "code",
      "source": [
        ""
      ],
      "metadata": {
        "id": "cNJS0GjPBGMO"
      },
      "execution_count": null,
      "outputs": []
    },
    {
      "cell_type": "markdown",
      "source": [
        ""
      ],
      "metadata": {
        "id": "9BaTxVSkAf9i"
      }
    }
  ]
}