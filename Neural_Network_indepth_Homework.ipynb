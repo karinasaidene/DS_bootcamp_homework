{
  "cells": [
    {
      "cell_type": "markdown",
      "metadata": {
        "id": "view-in-github",
        "colab_type": "text"
      },
      "source": [
        "<a href=\"https://colab.research.google.com/github/karinasaidene/DS_bootcamp_homework/blob/main/Neural_Network_indepth_Homework.ipynb\" target=\"_parent\"><img src=\"https://colab.research.google.com/assets/colab-badge.svg\" alt=\"Open In Colab\"/></a>"
      ]
    },
    {
      "cell_type": "code",
      "execution_count": 1,
      "id": "5f2b46b6",
      "metadata": {
        "id": "5f2b46b6"
      },
      "outputs": [],
      "source": [
        "from sklearn.datasets import load_digits\n",
        "import numpy as np\n",
        "from numpy import array"
      ]
    },
    {
      "cell_type": "code",
      "execution_count": 2,
      "id": "d2f94158",
      "metadata": {
        "id": "d2f94158"
      },
      "outputs": [],
      "source": [
        "Xdigits,ydigits = load_digits(n_class=2, return_X_y=True, as_frame=False)"
      ]
    },
    {
      "cell_type": "code",
      "execution_count": 3,
      "id": "2f4b0577",
      "metadata": {
        "id": "2f4b0577"
      },
      "outputs": [],
      "source": [
        "#data preparation\n",
        "from sklearn.model_selection import train_test_split\n",
        "X_train,X_test,y_train,y_test = train_test_split(Xdigits, ydigits, test_size=0.1, random_state=1)\n",
        "\n",
        "y_train =y_train.reshape((-1,1))\n",
        "y_test =y_test.reshape((-1,1))"
      ]
    },
    {
      "cell_type": "code",
      "execution_count": 4,
      "id": "1198b3fd",
      "metadata": {
        "colab": {
          "base_uri": "https://localhost:8080/",
          "height": 265
        },
        "id": "1198b3fd",
        "outputId": "2b032b3b-354e-4caf-c73f-341f0a6a0ed6"
      },
      "outputs": [
        {
          "output_type": "display_data",
          "data": {
            "image/png": "[encoded data removed]",
            "text/plain": [
              "<Figure size 432x288 with 1 Axes>"
            ]
          },
          "metadata": {
            "needs_background": "light"
          }
        }
      ],
      "source": [
        "from matplotlib import pyplot as plt\n",
        "for i in range(2):\n",
        "    s=np.where(y_train.flatten()==i)\n",
        "    plt.scatter(X_train[s].T[0],X_train[s].T[1],label=str(i))\n",
        "    \n",
        "plt.legend()\n",
        "plt.show()"
      ]
    },
    {
      "cell_type": "code",
      "execution_count": 5,
      "id": "d224a7b4",
      "metadata": {
        "id": "d224a7b4"
      },
      "outputs": [],
      "source": [
        "def sigmoid(x) :\n",
        "    return 1/(1+np.exp(-x))"
      ]
    },
    {
      "cell_type": "code",
      "execution_count": 6,
      "id": "4e250449",
      "metadata": {
        "id": "4e250449"
      },
      "outputs": [],
      "source": [
        "def forwardPass(X,Y, parameters) :\n",
        "    w1,w2, b1, b2= parameters[\"w1\"],parameters[\"w2\"],parameters[\"b1\"],parameters[\"b2\"]\n",
        "    z1=np.dot(X,w1.T)+b1.T\n",
        "    A1=sigmoid(z1)\n",
        "    z2=np.dot(A1,w2.T)+b2.T\n",
        "    A2=sigmoid(z2)\n",
        "    \n",
        "    cache=(z1,A1,w1,b1,z2,A2,w2,b2)\n",
        "    cross_entropies=-(np.multiply(Y, np.log(A2))+np.multiply((1-Y), np.log(1-A2)))\n",
        "    cost= np.sum(cross_entropies)/X.shape[0]\n",
        "    return cost,cache,A2"
      ]
    },
    {
      "cell_type": "code",
      "execution_count": 7,
      "id": "f8d2c594",
      "metadata": {
        "id": "f8d2c594"
      },
      "outputs": [],
      "source": [
        "def backwardPass(X,Y,cache) :\n",
        "    m= X.shape[0]\n",
        "    (z1,A1,w1,b1,z2,A2,w2,b2)=cache\n",
        "    dz2= A2-Y\n",
        "    dw2=np.dot(dz2.T,A1) /m\n",
        "    db2=np.sum(dz2.T, axis=1,keepdims=True)\n",
        "    \n",
        "    dA1=np.dot(dz2,w2)\n",
        "    dz1=np.multiply(dA1, A1*(1-A1))\n",
        "    dw1=np.dot(dz1.T, X)/m\n",
        "    db1=np.sum(dz1.T, axis=1, keepdims=True) /m\n",
        "    \n",
        "    gradients={\"dz2\":dz2 , \"dw2\":dw2, \"db2\": db2,\"dz1\":dz1 , \"dw1\":dw1 , \"db1\": db1 }\n",
        "    \n",
        "    return gradients \n",
        "    \n",
        "    "
      ]
    },
    {
      "cell_type": "code",
      "execution_count": 8,
      "id": "d6f527f4",
      "metadata": {
        "id": "d6f527f4"
      },
      "outputs": [],
      "source": [
        "#weight initialization using HE initialization\n",
        "\n",
        "def initializeParametersHe(inputSize, HiddenLayerSize,outputSize):\n",
        "    w1=np.random.randn(HiddenLayerSize, inputSize) *np.sqrt(2/inputSize)\n",
        "    w2=np.random.randn(outputSize, HiddenLayerSize) *np.sqrt(2/HiddenLayerSize) \n",
        "    b1=np.zeros((HiddenLayerSize,1))\n",
        "    b2=np.zeros((outputSize,1))\n",
        "    #we will store our parameters in a dict and return them\n",
        "    parameters={\"w1\":w1,\"w2\":w2,\"b1\":b1,\"b2\":b2}\n",
        "    \n",
        "    return parameters"
      ]
    },
    {
      "cell_type": "code",
      "execution_count": 9,
      "id": "1df5114c",
      "metadata": {
        "id": "1df5114c"
      },
      "outputs": [],
      "source": [
        "#we will use gradient discent to update the parameters\n",
        "\n",
        "def GradientDescent(parameters, gradients, learningRate):\n",
        "    parameters[\"w1\"]=parameters[\"w1\"] - learningRate * gradients[\"dw1\"]\n",
        "    parameters[\"w2\"]=parameters[\"w2\"] - learningRate * gradients[\"dw2\"]\n",
        "    parameters[\"b1\"]=parameters[\"b1\"] - learningRate * gradients[\"db1\"]\n",
        "    parameters[\"b2\"]=parameters[\"b2\"] - learningRate * gradients[\"db2\"]\n",
        "    \n",
        "    return parameters\n",
        "    "
      ]
    },
    {
      "cell_type": "code",
      "execution_count": 10,
      "id": "e5da25de",
      "metadata": {
        "id": "e5da25de"
      },
      "outputs": [],
      "source": [
        "HiddenLayerSize=3 #number of hidden layers neurons\n",
        "inputSize=X_train.shape[1] #number of input features\n",
        "outputSize=y_train.shape[1] #number of output features\n",
        "parameters=initializeParametersHe(inputSize, HiddenLayerSize,outputSize)"
      ]
    },
    {
      "cell_type": "code",
      "execution_count": 11,
      "id": "b86a4c11",
      "metadata": {
        "id": "b86a4c11"
      },
      "outputs": [],
      "source": [
        "epoch= 10000\n",
        "learningRate=0.01\n",
        "losses=np.zeros((epoch,1))\n",
        "for i in range(epoch) :\n",
        "    losses[i, 0] ,cache, A2= forwardPass(X_train,y_train ,parameters)\n",
        "    gradients = backwardPass(X_train,y_train, cache)\n",
        "    parameters= GradientDescent(parameters, gradients, learningRate)"
      ]
    },
    {
      "cell_type": "code",
      "execution_count": 12,
      "id": "7a8cc2f8",
      "metadata": {
        "colab": {
          "base_uri": "https://localhost:8080/",
          "height": 279
        },
        "id": "7a8cc2f8",
        "outputId": "13ebefda-86a8-4c41-ce6e-ca74b221aece"
      },
      "outputs": [
        {
          "output_type": "display_data",
          "data": {
            "image/png": "[encoded data removed]",
            "text/plain": [
              "<Figure size 432x288 with 1 Axes>"
            ]
          },
          "metadata": {
            "needs_background": "light"
          }
        }
      ],
      "source": [
        "plt.figure()\n",
        "plt.plot(losses)\n",
        "plt.xlabel(\"EPOCHS\")\n",
        "plt.ylabel(\"loss Value\")\n",
        "plt.show()"
      ]
    },
    {
      "cell_type": "code",
      "execution_count": 13,
      "id": "0c4d9935",
      "metadata": {
        "colab": {
          "base_uri": "https://localhost:8080/"
        },
        "id": "0c4d9935",
        "outputId": "2bb828fd-d7f7-4794-f686-a4aecc5a5f7e"
      },
      "outputs": [
        {
          "output_type": "stream",
          "name": "stdout",
          "text": [
            "Accuracy =  1.0\n"
          ]
        }
      ],
      "source": [
        "#Evaluate the model \n",
        "from sklearn.metrics import accuracy_score\n",
        "_, _, A2= forwardPass(X_test,y_test,parameters )\n",
        "y_test_classes = y_test\n",
        "y_pred_classes = [1 if a>0.5 else 0 for a in A2]\n",
        "print(\"Accuracy = \", accuracy_score(y_test_classes,y_pred_classes))"
      ]
    },
    {
      "cell_type": "code",
      "execution_count": 13,
      "id": "047a1384",
      "metadata": {
        "id": "047a1384"
      },
      "outputs": [],
      "source": [
        "#There's a problem in the accuracy that I couldn't fix"
      ]
    }
  ],
  "metadata": {
    "kernelspec": {
      "display_name": "Python 3 (ipykernel)",
      "language": "python",
      "name": "python3"
    },
    "language_info": {
      "codemirror_mode": {
        "name": "ipython",
        "version": 3
      },
      "file_extension": ".py",
      "mimetype": "text/x-python",
      "name": "python",
      "nbconvert_exporter": "python",
      "pygments_lexer": "ipython3",
      "version": "3.9.7"
    },
    "colab": {
      "name": "Neural_Network_indepth_Homework.ipynb",
      "provenance": [],
      "collapsed_sections": [],
      "include_colab_link": true
    }
  },
  "nbformat": 4,
  "nbformat_minor": 5
}